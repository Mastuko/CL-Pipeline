{
 "cells": [
  {
   "cell_type": "code",
   "execution_count": 1,
   "id": "e8490593-9350-4031-8715-8d136768e4c7",
   "metadata": {},
   "outputs": [],
   "source": [
    "%load_ext autoreload\n",
    "%autoreload 2"
   ]
  },
  {
   "cell_type": "code",
   "execution_count": 2,
   "id": "6545281c-4e8e-428d-8f21-ce0942ad104d",
   "metadata": {
    "tags": []
   },
   "outputs": [],
   "source": [
    "import os\n",
    "\n",
    "import numpy as np\n",
    "import matplotlib.pyplot as plt\n",
    "\n",
    "import torch\n",
    "import torch.nn as nn\n",
    "import torch.nn.functional as F\n",
    "import torch.optim as optim\n",
    "from torch.autograd import grad\n",
    "from torchvision import transforms\n",
    "from torchvision import datasets\n",
    "import torchvision.datasets.utils as dataset_utils\n",
    "from site import addsitedir\n",
    "addsitedir(\"/workspace\")\n",
    "from utils import metrics, datasets, optimizer, nn_utils\n",
    "import utils.others as others\n",
    "import utils.mlflow_utils as mlutils"
   ]
  },
  {
   "cell_type": "code",
   "execution_count": null,
   "id": "0b85062d-2e10-45fb-acae-7b977e7da3f0",
   "metadata": {},
   "outputs": [],
   "source": [
    "EXPERIMENT = \"Invariant Risk Minimization\"\n",
    "DATAPATH = [[\"/workspace/papermill/Data/X_train_1\", \"/workspace/papermill/Data/y_train_1.csv\"], [\"/workspace/papermill/Data/X_test_1_1.csv\", \"/workspace/papermill/Data/y_test_1_1.csv\"]]"
   ]
  },
  {
   "cell_type": "code",
   "execution_count": 3,
   "id": "0b7144b4-264c-4098-949b-e4b9c9e31590",
   "metadata": {
    "tags": [
     "EXPERIMENT",
     "ARTIFACT_DIR",
     "METRICS",
     "ITERATION",
     "DATALOADER"
    ]
   },
   "outputs": [],
   "source": [
    "# tagged cell\n",
    "\n",
    "# EXPERIMENT = \"Hyper_Parameter_CML\"\n",
    "ARTIFACT_DIR = \"../artifacts\"\n",
    "METRICS = [metrics.MeanSquaredError(), metrics.StdDeviation()]\n",
    "# DATAPATH = [[\"/workspace/papermill/Data/X_train_1\", \"/workspace/papermill/Data/y_train_1.csv\"], [\"/workspace/papermill/Data/X_test_1_1.csv\", \"/workspace/papermill/Data/y_test_1_1.csv\"]]\n",
    "ITERATIONS = 1"
   ]
  },
  {
   "cell_type": "code",
   "execution_count": null,
   "id": "ee34fe6c-df7c-4c79-b4a5-32e108895c60",
   "metadata": {},
   "outputs": [],
   "source": []
  }
 ],
 "metadata": {
  "kernelspec": {
   "display_name": "Python 3 (ipykernel)",
   "language": "python",
   "name": "python3"
  },
  "language_info": {
   "codemirror_mode": {
    "name": "ipython",
    "version": 3
   },
   "file_extension": ".py",
   "mimetype": "text/x-python",
   "name": "python",
   "nbconvert_exporter": "python",
   "pygments_lexer": "ipython3",
   "version": "3.8.10"
  }
 },
 "nbformat": 4,
 "nbformat_minor": 5
}
